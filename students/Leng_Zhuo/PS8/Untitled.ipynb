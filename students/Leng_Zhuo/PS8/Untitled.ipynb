{
 "cells": [
  {
   "cell_type": "code",
   "execution_count": 1,
   "metadata": {
    "collapsed": false
   },
   "outputs": [
    {
     "name": "stderr",
     "output_type": "stream",
     "text": [
      "Loading tidyverse: ggplot2\n",
      "Loading tidyverse: tibble\n",
      "Loading tidyverse: tidyr\n",
      "Loading tidyverse: readr\n",
      "Loading tidyverse: purrr\n",
      "Loading tidyverse: dplyr\n",
      "Conflicts with tidy packages ---------------------------------------------------\n",
      "filter(): dplyr, stats\n",
      "lag():    dplyr, stats\n",
      "\n",
      "Attaching package: ‘modelr’\n",
      "\n",
      "The following object is masked from ‘package:broom’:\n",
      "\n",
      "    bootstrap\n",
      "\n",
      "randomForest 4.6-12\n",
      "Type rfNews() to see new features/changes/bug fixes.\n",
      "\n",
      "Attaching package: ‘randomForest’\n",
      "\n",
      "The following object is masked from ‘package:dplyr’:\n",
      "\n",
      "    combine\n",
      "\n",
      "The following object is masked from ‘package:ggplot2’:\n",
      "\n",
      "    margin\n",
      "\n",
      "\n",
      "Attaching package: ‘gridExtra’\n",
      "\n",
      "The following object is masked from ‘package:randomForest’:\n",
      "\n",
      "    combine\n",
      "\n",
      "The following object is masked from ‘package:dplyr’:\n",
      "\n",
      "    combine\n",
      "\n",
      "Type 'citation(\"pROC\")' for a citation.\n",
      "\n",
      "Attaching package: ‘pROC’\n",
      "\n",
      "The following objects are masked from ‘package:stats’:\n",
      "\n",
      "    cov, smooth, var\n",
      "\n",
      "Updating HTML index of packages in '.Library'\n",
      "Making 'packages.html' ... done\n"
     ]
    },
    {
     "ename": "ERROR",
     "evalue": "Error in loadNamespace(name): there is no package called ‘devtools’\n",
     "output_type": "error",
     "traceback": [
      "Error in loadNamespace(name): there is no package called ‘devtools’\nTraceback:\n",
      "1. devtools::install_github",
      "2. getExportedValue(pkg, name)",
      "3. asNamespace(ns)",
      "4. getNamespace(ns)",
      "5. tryCatch(loadNamespace(name), error = function(e) stop(e))",
      "6. tryCatchList(expr, classes, parentenv, handlers)",
      "7. tryCatchOne(expr, names, parentenv, handlers[[1L]])",
      "8. value[[3L]](cond)"
     ]
    }
   ],
   "source": [
    "library(tidyverse)\n",
    "library(forcats)\n",
    "library(broom)\n",
    "library(modelr)\n",
    "#install.packages('tree')\n",
    "library(tree)\n",
    "#install.packages('randomForest')\n",
    "library(randomForest)\n",
    "library(stringr)\n",
    "#install.packages('ISLR')\n",
    "library(ISLR)\n",
    "#install.packages('gridExtra')\n",
    "library(gridExtra)\n",
    "library(grid)\n",
    "#library(rcfss)\n",
    "library(pROC)\n",
    "install.packages('gbm')\n",
    "#library(gbm)\n",
    "# to get the tree graphs with the labels and values, use the forked\n",
    "# version of ggdendro\n",
    "devtools::install_github(\"bensoltoff/ggdendro\")\n",
    "library(ggdendro)\n",
    "library(caret)\n",
    "#install.packages('e1071')\n",
    "library(e1071)\n",
    "\n",
    "options(digits = 3)\n",
    "set.seed(1234)\n",
    "theme_set(theme_minimal())\n"
   ]
  },
  {
   "cell_type": "code",
   "execution_count": null,
   "metadata": {
    "collapsed": true
   },
   "outputs": [],
   "source": []
  }
 ],
 "metadata": {
  "kernelspec": {
   "display_name": "R",
   "language": "R",
   "name": "ir"
  },
  "language_info": {
   "codemirror_mode": "r",
   "file_extension": ".r",
   "mimetype": "text/x-r-source",
   "name": "R",
   "pygments_lexer": "r",
   "version": "3.3.2"
  }
 },
 "nbformat": 4,
 "nbformat_minor": 2
}
